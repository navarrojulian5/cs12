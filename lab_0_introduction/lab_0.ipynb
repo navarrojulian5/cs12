{
 "cells": [
  {
   "cell_type": "markdown",
   "metadata": {},
   "source": [
    "# Lab 0: Introduction\n",
    "\n",
    "This lab is mainly for setup and assesses if you are prepared for CS 12: TensorFlow."
   ]
  },
  {
   "cell_type": "markdown",
   "metadata": {},
   "source": [
    "## Section 0: Setup & Git Basics\n",
    "Read (and do) the setup as instructed on the class webpage:\n",
    "rohunagrawal.github.io/#/cs12/setup\n",
    "\n",
    "Important things:\n",
    "- Make sure your lab repository is private\n",
    "- Make sure the repository is shared with `rohunagrawal`.\n",
    "  \n",
    "Now make and push a text file in the `lab_0_introduction` folder with a fun message for us.\n",
    "- Make sure that this file is added in its own commit.\n",
    "- Either use command line instructions (`git add`, `git commit`, `git push`) or use a visual git interface. (GitHub desktop, VSCode source control, etc)\n",
    "  - Do not upload the file using the interface on github.com."
   ]
  },
  {
   "cell_type": "markdown",
   "metadata": {},
   "source": [
    "## Section 1: Formatting & Style\n",
    "\n",
    "Oh no! Ben Bitfiddle hasn't written any Python code since CS 1! Help him rewrite the functions below into something reasonable."
   ]
  },
  {
   "cell_type": "code",
   "execution_count": null,
   "metadata": {},
   "outputs": [],
   "source": [
    "# Import essential libraries\n",
    "import random\n",
    "import string\n",
    "import inspect"
   ]
  },
  {
   "cell_type": "code",
   "execution_count": null,
   "metadata": {},
   "outputs": [],
   "source": [
    "# Ben Bitfiddle wanted to make a function so he could add numbers together.\n",
    "def add(x,y):\n",
    "    return x + y\n",
    "\n",
    "# Ben has made an interesting choice for his sorting function...\n",
    "def bogosort(array):\n",
    "    random.shuffle(array)\n",
    "    while(array != sorted(array)):\n",
    "        random.shuffle(array)\n",
    "    return array\n",
    "   \n",
    "# Mr Bitfiddle wanted to make an array ranging from 1 to 13.\n",
    "def make_data():\n",
    "    lst = []\n",
    "    for i in range(1, 14):\n",
    "        lst.append(i)\n",
    "    return lst\n",
    "  \n",
    "# Ben was tired of seeing Camelcasing in Python so he wrote a helpful function.\n",
    "# But wait, don't his variables look weird...?\n",
    "# Brownie points if you can rewrite this in one line. Hint: Use regexes.\n",
    "import re\n",
    "def convertCamelToSnake(str):\n",
    "    return re.sub(r'(?<!^)(?=[A-Z])', '_', str).lower()"
   ]
  },
  {
   "cell_type": "code",
   "execution_count": null,
   "metadata": {},
   "outputs": [],
   "source": [
    "# NOTE: Just to see the output; no work to do here.\n",
    "\n",
    "print(\"1 + 5 =\", add(1, 5))\n",
    "\n",
    "print(\"Oh boy it's sorted:\\n\\t\", bogosort([2, 4, 6, 8, 9, 7, 5, 3, 1]), sep=\"\")\n",
    "\n",
    "print(\"Data!:\\n\\t\", make_data(), sep=\"\")\n",
    "\n",
    "print(\"Hmm wait...\\n\", \"\\t\" + convertCamelToSnake(inspect.getsource(convertCamelToSnake)).replace(\"\\n\", \"\\n\\t\"), sep=\"\")"
   ]
  },
  {
   "cell_type": "markdown",
   "metadata": {},
   "source": [
    "## Section 2: Documentation Scavenger Hunt\n",
    "\n",
    "Reading documentation will be very helpful if not essential to doing well in the class. \n",
    "\n",
    "### 2.1: TensorFlow Docs\n",
    "For TensorFlow, documentation can be found at https://www.tensorflow.org/api_docs/python. Do the following in comments below.\n",
    "\n",
    "- Find the following functions in the API and describe their use (one short sentence is good).\n",
    "  - `tf.math.erf`\n",
    "  - `tf.print`\n",
    "  - `tf.nn.weighted_cross_entropy_with_logits`\n",
    "  \n",
    "- Find functions that do the following (you don't need to use them just give the name):\n",
    "  - Flip an image horizontally (left to right).\n",
    "  - Fast Fourier transform.\n",
    "  - Casts a tensor to a new type.\n",
    "\n",
    "- List all of the types used in TensorFlow (`tf.dtypes`)."
   ]
  },
  {
   "cell_type": "code",
   "execution_count": null,
   "metadata": {},
   "outputs": [],
   "source": [
    "# Describe the functions:\n",
    "\"\"\"\n",
    "tf.math.erf computes the Gauss error function of each element in the argument. \n",
    "\n",
    "tf.print prints the argument.\n",
    "\n",
    "tf.nn.weighted_cross_entropy_with_logits computes the weighted cross entropy\n",
    "\"\"\"\n",
    "# Find the functions:\n",
    "\"\"\"\n",
    "tf.image.flip_left_right\n",
    "\n",
    "tf.signal.fft \n",
    "\n",
    "tf.cast\n",
    "\"\"\"\n",
    "# Example: Returns x + y element-wise. => `tf.math.add`\n",
    "\n",
    "# List the types:\n",
    "\"\"\"\n",
    "tf.float32\n",
    "tf.float64\n",
    "tf.int32\n",
    "tf.int64\n",
    "tf.uint8\n",
    "tf.uint16\n",
    "tf.uint32\n",
    "tf.uint64\n",
    "tf.int8\n",
    "tf.int16\n",
    "tf.bool\n",
    "tf.complex64\n",
    "tf.complex128\n",
    "tf.string\n",
    "tf.qint8\n",
    "tf.qint16\n",
    "tf.qint32\n",
    "tf.quint8\n",
    "tf.quint16\n",
    "tf.resource\n",
    "tf.variant\n",
    "\"\"\"\n"
   ]
  },
  {
   "cell_type": "markdown",
   "metadata": {},
   "source": [
    "### 2.2: Python Docs\n",
    "The actual docs are here: https://docs.python.org/3/, but you may find this more useful: https://python-reference.readthedocs.io/.\n",
    "\n",
    "- Explain what a list comprehension is, and make one to list the first 10 squares.\n",
    "- Make a class called `ComplexNum` which can store the value of a complex number. \n",
    "  - Implement `__add__`, `__mul__`, and `__str__`."
   ]
  },
  {
   "cell_type": "code",
   "execution_count": null,
   "metadata": {},
   "outputs": [],
   "source": [
    "## A list comprehension is a shorter syntax when we want to create a list from a existing iterable\n",
    "## object. \n",
    "sq_lst = [i ** 2 for i in range(1,11)]\n",
    "print(sq_lst)"
   ]
  },
  {
   "cell_type": "code",
   "execution_count": null,
   "metadata": {},
   "outputs": [],
   "source": [
    "class ComplexNum:\n",
    "    def __init__(self, real_part, complex_part):\n",
    "        self.real_part = real_part\n",
    "        self.complex_part = complex_part\n",
    "    \n",
    "    def __add__(self, complex_num):\n",
    "        add_real = self.real_part + complex_num.real_part\n",
    "        add_complex = self.complex_part + complex_num.complex_part\n",
    "        return ComplexNum(add_real, add_complex)\n",
    "    \n",
    "    def __mul__(self, complex_num):\n",
    "        mul_real = self.real_part * complex_num.real_part - self.complex_part * complex_num.complex_part\n",
    "        mul_complex = self.complex_part * complex_num.real_part + complex_num.complex_part * self.real_part\n",
    "        return ComplexNum(mul_real, mul_complex)\n",
    "    \n",
    "    def __str__(self):\n",
    "        str_real = f'{self.real_part}'\n",
    "        str_complex = f'{self.complex_part}'\n",
    "        return str_real + \"+\" + str_complex + \"i\"\n",
    "    \n",
    "# Native Python complex numbers \n",
    "a = 2 + 3j\n",
    "b = -2 + 5j\n",
    "print(a * b + a)\n",
    "\n",
    "# Your complex number\n",
    "a = ComplexNum(4, 3)\n",
    "b = ComplexNum(-2, 5)\n",
    "print(a * b + a)\n"
   ]
  },
  {
   "cell_type": "markdown",
   "metadata": {},
   "source": [
    "## Section 3: Tips To Remember \n",
    "- Read the [documentation](https://www.tensorflow.org/api_docs/python/tf) for functions you don't understand.\n",
    "- Read the notes for every lab before starting.\n",
    "  - The lecture notes have useful code to use, just make sure to actually change it so it works for the situation.\n",
    "  - It will be almost impossible to do this class without the notes.\n",
    "- Read all instructions on the assignments carefully. You can easily lose a lot of points if you forget to do something simple **like assigning TensorFlow names to your variables**.\n",
    "- Experiment with hyperparameters if your model does not train well."
   ]
  }
 ],
 "metadata": {
  "kernelspec": {
   "display_name": "Python 3 (ipykernel)",
   "language": "python",
   "name": "python3"
  },
  "language_info": {
   "codemirror_mode": {
    "name": "ipython",
    "version": 3
   },
   "file_extension": ".py",
   "mimetype": "text/x-python",
   "name": "python",
   "nbconvert_exporter": "python",
   "pygments_lexer": "ipython3",
   "version": "3.11.9"
  }
 },
 "nbformat": 4,
 "nbformat_minor": 4
}
